{
 "cells": [
  {
   "cell_type": "markdown",
   "metadata": {},
   "source": [
    "Task 2: Feature Engineering and Descriptive Statistics\n",
    "\n",
    "2.1 Feature Engineering"
   ]
  },
  {
   "cell_type": "code",
   "execution_count": 502,
   "metadata": {},
   "outputs": [],
   "source": [
    "import pandas as pd\n",
    "import numpy as np\n",
    "import pickle as pkl\n",
    "import matplotlib.pyplot as plt \n"
   ]
  },
  {
   "cell_type": "code",
   "execution_count": 503,
   "metadata": {},
   "outputs": [
    {
     "name": "stdout",
     "output_type": "stream",
     "text": [
      "<class 'pandas.core.frame.DataFrame'>\n",
      "Index: 10378 entries, 2888 to 18921\n",
      "Data columns (total 12 columns):\n",
      " #   Column        Non-Null Count  Dtype  \n",
      "---  ------        --------------  -----  \n",
      " 0   title         10378 non-null  object \n",
      " 1   console       10378 non-null  object \n",
      " 2   genre         10378 non-null  object \n",
      " 3   publisher     10378 non-null  object \n",
      " 4   developer     10378 non-null  object \n",
      " 5   critic_score  10378 non-null  float64\n",
      " 6   total_sales   10378 non-null  float64\n",
      " 7   na_sales      10378 non-null  float64\n",
      " 8   jp_sales      10378 non-null  float64\n",
      " 9   pal_sales     10378 non-null  float64\n",
      " 10  other_sales   10378 non-null  float64\n",
      " 11  release_date  10378 non-null  object \n",
      "dtypes: float64(6), object(6)\n",
      "memory usage: 1.0+ MB\n"
     ]
    }
   ],
   "source": [
    "with open('../Data/clean_data.pkl', 'rb') as dataOutput:\n",
    "    cleanedDF = pkl.load(dataOutput)\n",
    "    \n",
    "cleanedDF.head()\n",
    "cleanedDF.info()\n",
    "\n",
    "\n",
    "# We use pickle to save dataframes and import them for different tasks\n",
    "# To make sure we have the correct dataframe, we print the head and info."
   ]
  },
  {
   "cell_type": "code",
   "execution_count": 504,
   "metadata": {},
   "outputs": [
    {
     "data": {
      "text/plain": [
       "critic_score\n",
       "medium    5287\n",
       "high      5091\n",
       "low          0\n",
       "Name: count, dtype: int64"
      ]
     },
     "execution_count": 504,
     "metadata": {},
     "output_type": "execute_result"
    }
   ],
   "source": [
    "# We have decided to bin our critics score into low 0-3, medium 4-7 and high 8-10\n",
    "\n",
    "# Converting the datatype of critic_score to float\n",
    "cleanedDF['critic_score'] = cleanedDF['critic_score'].astype(float)\n",
    "\n",
    "cleanedDF['critic_score'] = pd.cut(cleanedDF['critic_score'], bins=[0, 3, 7, 10], labels=['low', 'medium', 'high'])\n",
    "\n",
    "\n",
    "# Now lets check the distribution of the different bins\n",
    "cleanedDF['critic_score'].value_counts()\n"
   ]
  },
  {
   "cell_type": "code",
   "execution_count": 505,
   "metadata": {},
   "outputs": [
    {
     "data": {
      "text/plain": [
       "count    10378.000000\n",
       "mean         0.079177\n",
       "std          0.088704\n",
       "min          0.000000\n",
       "25%          0.020000\n",
       "50%          0.050000\n",
       "75%          0.120000\n",
       "max          0.570000\n",
       "Name: total_sales, dtype: float64"
      ]
     },
     "execution_count": 505,
     "metadata": {},
     "output_type": "execute_result"
    }
   ],
   "source": [
    "# We also wanna bin the sales amounts with ranges, to make them more readable\n",
    "# First we check the distribution of the sales\n",
    "\n",
    "cleanedDF['total_sales'].describe()"
   ]
  },
  {
   "cell_type": "code",
   "execution_count": 506,
   "metadata": {},
   "outputs": [
    {
     "data": {
      "text/plain": [
       "total_sales\n",
       "medium    5068\n",
       "low       2362\n",
       "high      1705\n",
       "Name: count, dtype: int64"
      ]
     },
     "execution_count": 506,
     "metadata": {},
     "output_type": "execute_result"
    }
   ],
   "source": [
    "# We have decided to bin our sales into low [0-0.02], medium [0.02-0.2] and high [0.2-1] with the sales being in the millions.\n",
    "# The bins were mostly decided by the distribution of the total sales eg. 25%, 50%, 75% values.\n",
    "\n",
    "cleanedDF['total_sales'] = pd.cut(cleanedDF['total_sales'], bins=[0, 0.02, 0.15, 1], labels=['low', 'medium', 'high'])\n",
    "\n",
    "cleanedDF.value_counts('total_sales')"
   ]
  },
  {
   "cell_type": "code",
   "execution_count": 507,
   "metadata": {},
   "outputs": [
    {
     "name": "stdout",
     "output_type": "stream",
     "text": [
      "37\n",
      "16\n",
      "656\n",
      "8217\n"
     ]
    }
   ],
   "source": [
    "# For onehot encoding we firstly need to check the amount of unique values in the columns we want to encode\n",
    "print(cleanedDF['console'].unique().size)\n",
    "print(cleanedDF['genre'].unique().size)\n",
    "print(cleanedDF['publisher'].unique().size)\n",
    "print(cleanedDF['title'].unique().size)\n",
    "\n"
   ]
  },
  {
   "cell_type": "code",
   "execution_count": 508,
   "metadata": {},
   "outputs": [
    {
     "name": "stdout",
     "output_type": "stream",
     "text": [
      "Index(['title', 'console', 'publisher', 'developer', 'critic_score',\n",
      "       'total_sales', 'na_sales', 'jp_sales', 'pal_sales', 'other_sales',\n",
      "       'release_date', 'genre_Action', 'genre_Action-Adventure',\n",
      "       'genre_Adventure', 'genre_Education', 'genre_Fighting', 'genre_MMO',\n",
      "       'genre_Misc', 'genre_Music', 'genre_Platform', 'genre_Puzzle',\n",
      "       'genre_Racing', 'genre_Role-Playing', 'genre_Shooter',\n",
      "       'genre_Simulation', 'genre_Sports', 'genre_Strategy'],\n",
      "      dtype='object')\n",
      "                                title console        publisher  \\\n",
      "2888   Wreckless: ThE YaKuza MisSiOns      XB       Activision   \n",
      "3045                Red Dead Revolver      XB   Rockstar Games   \n",
      "3046     The Godfather (old US sales)      XB  Electronic Arts   \n",
      "3102  Dance Dance Revolution Ultramix      XB           Konami   \n",
      "3114                       SSX Tricky      GC    EA Sports BIG   \n",
      "\n",
      "                                 developer critic_score total_sales  na_sales  \\\n",
      "2888                   Bunkasha Publishing       medium        high      0.42   \n",
      "3045                    Rockstar San Diego         high        high      0.40   \n",
      "3046                              Headgate       medium        high      0.42   \n",
      "3102  Konami Computer Entertainment Hawaii       medium        high      0.42   \n",
      "3114                             EA Canada         high        high      0.42   \n",
      "\n",
      "      jp_sales  pal_sales  other_sales  ... genre_Misc  genre_Music  \\\n",
      "2888      0.02       0.11         0.02  ...      False        False   \n",
      "3045      0.00       0.12         0.02  ...      False        False   \n",
      "3046      0.00       0.11         0.02  ...      False        False   \n",
      "3102      0.00       0.11         0.02  ...      False        False   \n",
      "3114      0.00       0.11         0.01  ...      False        False   \n",
      "\n",
      "      genre_Platform  genre_Puzzle  genre_Racing  genre_Role-Playing  \\\n",
      "2888           False         False          True               False   \n",
      "3045           False         False         False               False   \n",
      "3046           False         False         False               False   \n",
      "3102           False         False         False               False   \n",
      "3114           False         False         False               False   \n",
      "\n",
      "      genre_Shooter  genre_Simulation  genre_Sports  genre_Strategy  \n",
      "2888          False             False         False           False  \n",
      "3045           True             False         False           False  \n",
      "3046          False             False         False           False  \n",
      "3102          False              True         False           False  \n",
      "3114          False             False          True           False  \n",
      "\n",
      "[5 rows x 27 columns]\n"
     ]
    }
   ],
   "source": [
    "# We have decided to onehot encode the genre of the games\n",
    "cleanedDF = pd.get_dummies(cleanedDF, columns=['genre'])\n",
    "\n",
    "print(cleanedDF.columns)   # We check the columns to see if the encoding was successful\n",
    "print(cleanedDF.head())\n",
    "# We can see that the different genres have been encoded into columns with true or false values"
   ]
  },
  {
   "cell_type": "markdown",
   "metadata": {},
   "source": [
    "2.2 Descriptive Statistics"
   ]
  },
  {
   "cell_type": "code",
   "execution_count": 509,
   "metadata": {},
   "outputs": [
    {
     "data": {
      "text/html": [
       "<div>\n",
       "<style scoped>\n",
       "    .dataframe tbody tr th:only-of-type {\n",
       "        vertical-align: middle;\n",
       "    }\n",
       "\n",
       "    .dataframe tbody tr th {\n",
       "        vertical-align: top;\n",
       "    }\n",
       "\n",
       "    .dataframe thead th {\n",
       "        text-align: right;\n",
       "    }\n",
       "</style>\n",
       "<table border=\"1\" class=\"dataframe\">\n",
       "  <thead>\n",
       "    <tr style=\"text-align: right;\">\n",
       "      <th></th>\n",
       "      <th>na_sales</th>\n",
       "      <th>jp_sales</th>\n",
       "      <th>pal_sales</th>\n",
       "      <th>other_sales</th>\n",
       "    </tr>\n",
       "  </thead>\n",
       "  <tbody>\n",
       "    <tr>\n",
       "      <th>count</th>\n",
       "      <td>10378.000000</td>\n",
       "      <td>10378.000000</td>\n",
       "      <td>10378.000000</td>\n",
       "      <td>10378.000000</td>\n",
       "    </tr>\n",
       "    <tr>\n",
       "      <th>mean</th>\n",
       "      <td>0.052483</td>\n",
       "      <td>0.005563</td>\n",
       "      <td>0.015897</td>\n",
       "      <td>0.004705</td>\n",
       "    </tr>\n",
       "    <tr>\n",
       "      <th>std</th>\n",
       "      <td>0.072476</td>\n",
       "      <td>0.012066</td>\n",
       "      <td>0.024946</td>\n",
       "      <td>0.006764</td>\n",
       "    </tr>\n",
       "    <tr>\n",
       "      <th>min</th>\n",
       "      <td>0.000000</td>\n",
       "      <td>0.000000</td>\n",
       "      <td>0.000000</td>\n",
       "      <td>0.000000</td>\n",
       "    </tr>\n",
       "    <tr>\n",
       "      <th>25%</th>\n",
       "      <td>0.000000</td>\n",
       "      <td>0.000000</td>\n",
       "      <td>0.000000</td>\n",
       "      <td>0.000000</td>\n",
       "    </tr>\n",
       "    <tr>\n",
       "      <th>50%</th>\n",
       "      <td>0.020000</td>\n",
       "      <td>0.000000</td>\n",
       "      <td>0.000000</td>\n",
       "      <td>0.000000</td>\n",
       "    </tr>\n",
       "    <tr>\n",
       "      <th>75%</th>\n",
       "      <td>0.080000</td>\n",
       "      <td>0.000000</td>\n",
       "      <td>0.020000</td>\n",
       "      <td>0.010000</td>\n",
       "    </tr>\n",
       "    <tr>\n",
       "      <th>max</th>\n",
       "      <td>0.420000</td>\n",
       "      <td>0.050000</td>\n",
       "      <td>0.120000</td>\n",
       "      <td>0.020000</td>\n",
       "    </tr>\n",
       "  </tbody>\n",
       "</table>\n",
       "</div>"
      ],
      "text/plain": [
       "           na_sales      jp_sales     pal_sales   other_sales\n",
       "count  10378.000000  10378.000000  10378.000000  10378.000000\n",
       "mean       0.052483      0.005563      0.015897      0.004705\n",
       "std        0.072476      0.012066      0.024946      0.006764\n",
       "min        0.000000      0.000000      0.000000      0.000000\n",
       "25%        0.000000      0.000000      0.000000      0.000000\n",
       "50%        0.020000      0.000000      0.000000      0.000000\n",
       "75%        0.080000      0.000000      0.020000      0.010000\n",
       "max        0.420000      0.050000      0.120000      0.020000"
      ]
     },
     "execution_count": 509,
     "metadata": {},
     "output_type": "execute_result"
    }
   ],
   "source": [
    "cleanedDF.describe()\n",
    "\n",
    "# Here we have the mean, median and standard deviation of the different columns in the dataframe\n"
   ]
  },
  {
   "cell_type": "code",
   "execution_count": 510,
   "metadata": {},
   "outputs": [
    {
     "data": {
      "text/plain": [
       "title                       object\n",
       "console                     object\n",
       "publisher                   object\n",
       "developer                   object\n",
       "critic_score              category\n",
       "total_sales               category\n",
       "na_sales                   float64\n",
       "jp_sales                   float64\n",
       "pal_sales                  float64\n",
       "other_sales                float64\n",
       "release_date                object\n",
       "genre_Action                  bool\n",
       "genre_Action-Adventure        bool\n",
       "genre_Adventure               bool\n",
       "genre_Education               bool\n",
       "genre_Fighting                bool\n",
       "genre_MMO                     bool\n",
       "genre_Misc                    bool\n",
       "genre_Music                   bool\n",
       "genre_Platform                bool\n",
       "genre_Puzzle                  bool\n",
       "genre_Racing                  bool\n",
       "genre_Role-Playing            bool\n",
       "genre_Shooter                 bool\n",
       "genre_Simulation              bool\n",
       "genre_Sports                  bool\n",
       "genre_Strategy                bool\n",
       "dtype: object"
      ]
     },
     "execution_count": 510,
     "metadata": {},
     "output_type": "execute_result"
    }
   ],
   "source": [
    "# Then we can count the frequency of the different categorial features.\n",
    "# Firstly we have to check all the dtypes of the columns\n",
    "cleanedDF.dtypes\n",
    "\n"
   ]
  },
  {
   "cell_type": "code",
   "execution_count": 511,
   "metadata": {},
   "outputs": [
    {
     "name": "stdout",
     "output_type": "stream",
     "text": [
      "\n",
      "Title:  title\n",
      "Open Season                                               7\n",
      "Handball 16                                               6\n",
      "Rugby World Cup 2015                                      6\n",
      "WRC 5: FIA World Rally Championship                       6\n",
      "Ben 10 Galactic Racing                                    6\n",
      "                                                         ..\n",
      "Star Wars: The Force Unleashed - Ultimate Sith Edition    1\n",
      "Spikeout: Battle Street                                   1\n",
      "Train Simulator 2015                                      1\n",
      "Iron Master: The Legendary Blacksmith                     1\n",
      "SSX Tricky                                                1\n",
      "Name: count, Length: 8217, dtype: int64\n",
      "\n",
      "Console:  console\n",
      "DS      1668\n",
      "PC      1231\n",
      "PS2      851\n",
      "Wii      808\n",
      "PSP      735\n",
      "XB       626\n",
      "X360     587\n",
      "GBA      562\n",
      "PS       500\n",
      "PS4      458\n",
      "PS3      438\n",
      "PSV      401\n",
      "GC       338\n",
      "XOne     329\n",
      "3DS      262\n",
      "NS       182\n",
      "N64      155\n",
      "WiiU      74\n",
      "2600      64\n",
      "SNES      30\n",
      "SAT       27\n",
      "PSN       12\n",
      "XBL        7\n",
      "GEN        6\n",
      "DC         5\n",
      "NES        4\n",
      "VC         3\n",
      "NG         3\n",
      "SCD        2\n",
      "3DO        2\n",
      "WS         2\n",
      "GG         1\n",
      "OSX        1\n",
      "Mob        1\n",
      "PCFX       1\n",
      "PCE        1\n",
      "WW         1\n",
      "Name: count, dtype: int64\n",
      "\n",
      "Publisher:  publisher\n",
      "Ubisoft                        514\n",
      "Activision                     489\n",
      "THQ                            362\n",
      "Konami                         357\n",
      "Electronic Arts                287\n",
      "                              ... \n",
      "Spellbound                       1\n",
      "DMM Games                        1\n",
      "Noviy Disk                       1\n",
      "United Developers                1\n",
      "Digital Works Entertainment      1\n",
      "Name: count, Length: 656, dtype: int64\n",
      "\n",
      "Critics score:  critic_score\n",
      "medium    5287\n",
      "high      5091\n",
      "low          0\n",
      "Name: count, dtype: int64\n",
      "\n",
      "Total sales:  total_sales\n",
      "medium    5068\n",
      "low       2362\n",
      "high      1705\n",
      "Name: count, dtype: int64\n"
     ]
    }
   ],
   "source": [
    "# We have to check the frequency of \"title\", \"console\", \"publisher\", \"critic_score\" and \"total_sales\"\n",
    "print(\"\\nTitle: \", cleanedDF['title'].value_counts())\n",
    "print(\"\\nConsole: \", cleanedDF['console'].value_counts())\n",
    "print(\"\\nPublisher: \", cleanedDF['publisher'].value_counts())\n",
    "print(\"\\nCritics score: \", cleanedDF['critic_score'].value_counts())\n",
    "print(\"\\nTotal sales: \", cleanedDF['total_sales'].value_counts())"
   ]
  },
  {
   "cell_type": "markdown",
   "metadata": {},
   "source": [
    "The feature 'Title' has 8000+ unique values and is not useful for our analysis\n",
    "\n",
    "Specificaly for our critics score bins, we can see that theres no games with a rating of \"low\" which is interesting \n",
    "which might be due to the cleaning of the data, and more specifically the removal of the outliers\n",
    "\n",
    "We can see that the majority of games have a medium rating."
   ]
  },
  {
   "cell_type": "markdown",
   "metadata": {},
   "source": [
    "2.3 Visualization"
   ]
  },
  {
   "cell_type": "code",
   "execution_count": 512,
   "metadata": {},
   "outputs": [
    {
     "data": {
      "image/png": "[encoded data removed]",
      "text/plain": [
       "<Figure size 800x500 with 1 Axes>"
      ]
     },
     "metadata": {},
     "output_type": "display_data"
    },
    {
     "data": {
      "image/png": "[encoded data removed]",
      "text/plain": [
       "<Figure size 800x500 with 1 Axes>"
      ]
     },
     "metadata": {},
     "output_type": "display_data"
    },
    {
     "data": {
      "image/png": "[encoded data removed]",
      "text/plain": [
       "<Figure size 800x500 with 1 Axes>"
      ]
     },
     "metadata": {},
     "output_type": "display_data"
    },
    {
     "data": {
      "image/png": "[encoded data removed]",
      "text/plain": [
       "<Figure size 800x500 with 1 Axes>"
      ]
     },
     "metadata": {},
     "output_type": "display_data"
    }
   ],
   "source": [
    "# Use seaborn to create box plots for numerical features to identify outliers\n",
    "# We want to display the values of median, 25% and 75% quartiles and the outliers\n",
    "\n",
    "import matplotlib.pyplot as plt\n",
    "import seaborn as sns\n",
    "\n",
    "plt.figure(figsize=(8, 5))\n",
    "sns.boxplot(x=cleanedDF['na_sales'], color='skyblue', width=0.4, fliersize=5, linewidth=2)\n",
    "plt.title('Boxplot of NA Sales')\n",
    "plt.xlabel('NA Sales')\n",
    "plt.show()\n",
    "\n",
    "plt.figure(figsize=(8, 5))\n",
    "sns.boxplot(x=cleanedDF['jp_sales'], color='skyblue', width=0.4, fliersize=5, linewidth=2)\n",
    "plt.title('Boxplot of JP Sales')\n",
    "plt.xlabel('JP Sales')\n",
    "plt.show()\n",
    "\n",
    "plt.figure(figsize=(8, 5))\n",
    "sns.boxplot(x=cleanedDF['pal_sales'], color='skyblue', width=0.4, fliersize=5, linewidth=2)\n",
    "plt.title('Boxplot of pal Sales')\n",
    "plt.xlabel('PAL Sales')\n",
    "plt.show()\n",
    "\n",
    "plt.figure(figsize=(8, 5))\n",
    "sns.boxplot(x=cleanedDF['other_sales'], color='skyblue', width=0.4, fliersize=5, linewidth=2)\n",
    "plt.title('Boxplot of other Sales')\n",
    "plt.xlabel('Other Sales')\n",
    "plt.show()\n"
   ]
  },
  {
   "cell_type": "markdown",
   "metadata": {},
   "source": [
    "When viewing the boxplots, you can tell that theres very few outliers, when we are talking about thousand of games.\n",
    "\n",
    "We cleaned most of the outliers in task 1."
   ]
  },
  {
   "cell_type": "code",
   "execution_count": 513,
   "metadata": {},
   "outputs": [
    {
     "name": "stderr",
     "output_type": "stream",
     "text": [
      "C:\\Users\\pelle\\AppData\\Local\\Temp\\ipykernel_9540\\4238591337.py:5: FutureWarning: \n",
      "\n",
      "Passing `palette` without assigning `hue` is deprecated and will be removed in v0.14.0. Assign the `x` variable to `hue` and set `legend=False` for the same effect.\n",
      "\n",
      "  sns.countplot(x=cleanedDF['critic_score'], palette='viridis')\n"
     ]
    },
    {
     "data": {
      "image/png": "[encoded data removed]",
      "text/plain": [
       "<Figure size 2000x500 with 1 Axes>"
      ]
     },
     "metadata": {},
     "output_type": "display_data"
    },
    {
     "name": "stderr",
     "output_type": "stream",
     "text": [
      "C:\\Users\\pelle\\AppData\\Local\\Temp\\ipykernel_9540\\4238591337.py:12: FutureWarning: \n",
      "\n",
      "Passing `palette` without assigning `hue` is deprecated and will be removed in v0.14.0. Assign the `x` variable to `hue` and set `legend=False` for the same effect.\n",
      "\n",
      "  sns.countplot(x=cleanedDF['total_sales'], palette='viridis')\n"
     ]
    },
    {
     "data": {
      "image/png": "[encoded data removed]",
      "text/plain": [
       "<Figure size 2000x500 with 1 Axes>"
      ]
     },
     "metadata": {},
     "output_type": "display_data"
    }
   ],
   "source": [
    "# o Visualize the distribution of categorical features using bar plots.\n",
    "\n",
    "\n",
    "plt.figure(figsize=(20, 5))\n",
    "sns.countplot(x=cleanedDF['critic_score'], palette='viridis')\n",
    "plt.title('Distribution of Critic Score')\n",
    "plt.xlabel('Critic Score')\n",
    "plt.ylabel('Count')\n",
    "plt.show()\n",
    "\n",
    "plt.figure(figsize=(20, 5))\n",
    "sns.countplot(x=cleanedDF['total_sales'], palette='viridis')\n",
    "plt.title('Distribution of Total Sales')\n",
    "plt.xlabel('Total Sales')\n",
    "plt.ylabel('Count')\n",
    "plt.show()\n",
    "\n",
    "\n"
   ]
  },
  {
   "cell_type": "markdown",
   "metadata": {},
   "source": [
    "As we described earlier when looking at the distribution of the categorical features, we have no games with a rating of low, which we might revisit.\n",
    "Otherwise there are more medium games than high rated games.\n",
    "\n",
    "\n",
    "\n",
    "For total sales, we see a normal distribution of the amount of sales, but again, the distribution can vary depending on the different bins you use.\n"
   ]
  },
  {
   "cell_type": "code",
   "execution_count": 514,
   "metadata": {},
   "outputs": [],
   "source": [
    "# Lets save the Dataframe to a new pickle file\n",
    "\n",
    "with open('../Data/Labelled_data.pkl', 'wb') as dataOutput:\n",
    "    pkl.dump(cleanedDF, dataOutput)"
   ]
  }
 ],
 "metadata": {
  "kernelspec": {
   "display_name": "aiml",
   "language": "python",
   "name": "python3"
  },
  "language_info": {
   "codemirror_mode": {
    "name": "ipython",
    "version": 3
   },
   "file_extension": ".py",
   "mimetype": "text/x-python",
   "name": "python",
   "nbconvert_exporter": "python",
   "pygments_lexer": "ipython3",
   "version": "3.12.1"
  }
 },
 "nbformat": 4,
 "nbformat_minor": 2
}
